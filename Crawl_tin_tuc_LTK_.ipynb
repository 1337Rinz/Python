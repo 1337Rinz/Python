{
  "nbformat": 4,
  "nbformat_minor": 0,
  "metadata": {
    "colab": {
      "provenance": [],
      "authorship_tag": "ABX9TyPMXEUA5ILB0Z2lTCQ/XRWe",
      "include_colab_link": true
    },
    "kernelspec": {
      "name": "python3",
      "display_name": "Python 3"
    },
    "language_info": {
      "name": "python"
    }
  },
  "cells": [
    {
      "cell_type": "markdown",
      "metadata": {
        "id": "view-in-github",
        "colab_type": "text"
      },
      "source": [
        "<a href=\"https://colab.research.google.com/github/RinzCSGO/Python/blob/main/Crawl_tin_tuc_LTK_.ipynb\" target=\"_parent\"><img src=\"https://colab.research.google.com/assets/colab-badge.svg\" alt=\"Open In Colab\"/></a>"
      ]
    },
    {
      "cell_type": "code",
      "source": [
        "from bs4 import BeautifulSoup\n",
        "from PIL import Image, ImageDraw, ImageFont\n",
        "import requests\n"
      ],
      "metadata": {
        "id": "4hbzqlMTc3dQ"
      },
      "execution_count": null,
      "outputs": []
    },
    {
      "cell_type": "code",
      "source": [
        "def crawNewsData(baseUrl, url):\n",
        "    response = requests.get(url)\n",
        "    soup = BeautifulSoup(response.content, \"html.parser\")\n",
        "    titles = soup.findAll('h3', class_='title-news')\n",
        "    links = [link.find('a').attrs[\"href\"] for link in titles]\n",
        "    data = []\n",
        "    for link in links:\n",
        "        news = requests.get(baseUrl + link)\n",
        "        soup = BeautifulSoup(news.content, \"html.parser\")\n",
        "        title = soup.find(\"h1\", class_=\"article-title\").text\n",
        "        abstract = soup.find(\"h2\", class_=\"sapo\").text\n",
        "        body = soup.find(\"div\", id=\"main-detail-body\")\n",
        "        content = \"\"\n",
        "        try:\n",
        "            content = body.findChildren(\"p\", recursive=False)[0].text + body.findChildren(\"p\", recursive=False)[1].text\n",
        "        except:\n",
        "            content = \"\"\n",
        "        # image = body.find(\"img\").attrs[\"src\"]\n",
        "        data.append({\n",
        "            \"title\": title,\n",
        "            \"abstract\": abstract,\n",
        "            \"content\": content,\n",
        "            # \"image\": image,\n",
        "        })\n",
        "        print(\"craw \" + title)\n",
        "    return data"
      ],
      "metadata": {
        "id": "6F6fxz2udP5q"
      },
      "execution_count": 2,
      "outputs": []
    },
    {
      "cell_type": "code",
      "source": [
        "crawNewsData(\"https://tuoitre.vn\", \"https://tuoitre.vn/tin-moi-nhat.htm\")"
      ],
      "metadata": {
        "id": "9_vnofQtdZOD",
        "outputId": "4f4e5ee0-a04d-4580-e742-df624605f4b5",
        "colab": {
          "base_uri": "https://localhost:8080/"
        }
      },
      "execution_count": 3,
      "outputs": [
        {
          "output_type": "stream",
          "name": "stdout",
          "text": [
            "craw Ông Tập Cận Bình và bước ngoặt Đại hội 20\n",
            "craw Thời tiết 16-10: Miền Trung tiếp tục mưa, TP.HCM se lạnh\n",
            "craw Không gian văn hóa Hồ Chí Minh trong trường học\n",
            "craw Bí thư Thành Đoàn TP.HCM Phan Thị Thanh Phương: Ủng hộ thanh niên có khát vọng làm giàu\n",
            "craw Hoàng Dũng xây nhà để 'Yên'\n",
            "craw Đông Quân, Thanh Ngọc, Hồng Mơ mang làn gió mới cho nhạc đỏ\n",
            "craw Lâm Thu Hồng đoạt danh hiệu Á hậu 4 Miss Globe 2022\n",
            "craw Tuổi trẻ TP.HCM mong đợi đối thoại cùng bí thư Thành ủy, bí thư Trung ương Đoàn\n",
            "craw Mưa quá lớn, không kịp trở tay\n",
            "craw Sập mỏ titan, 4 công nhân bị chôn vùi\n",
            "craw Tin sáng 16-10: Cung, cầu thị trường bất động sản đều giảm sâu, tại sao?\n",
            "craw Bão Nesat tăng cấp, vào Biển Đông trong 24 giờ tới\n",
            "craw Rạch Nhiêu Lộc khởi nguồn từ đâu?\n",
            "craw Bàn chuyện tập hợp, chuyển đổi số của Đoàn\n",
            "craw Giáo viên dạy lái xe là nhân viên dịch vụ cá nhân?\n",
            "craw Elon Musk ‘quay xe’, tuyên bố tiếp tục tài trợ Internet Starlink cho Ukraine\n",
            "craw Tin thế giới 16-10: Trung Quốc khai mạc Đại hội Đảng; Nổ súng tại khu huấn luyện quân sự Nga\n",
            "craw CĐV Brazil lo sốt vó khi Richarlison rời sân bằng nạng\n",
            "craw Trọng tài David Webb rút 4 thẻ đỏ trong trận đấu ở Giải hạng nhất Anh\n",
            "craw Lịch trực tiếp bóng đá châu Âu 16-10: Liverpool - Man City, Real Madrid - Barca\n"
          ]
        },
        {
          "output_type": "execute_result",
          "data": {
            "text/plain": [
              "[{'title': 'Ông Tập Cận Bình và bước ngoặt Đại hội 20',\n",
              "  'abstract': 'TTO - Tổng bí thư, Chủ tịch Trung Quốc Tập Cận Bình sẽ ghi một dấu son nữa trong sự nghiệp chính trị của ông khi Đại hội Đảng Cộng sản Trung Quốc lần thứ 20 khai mạc vào hôm nay 16-10, một sự kiện được cả thế giới theo dõi.',\n",
              "  'content': 'Trước khi đại hội khai mạc, ông Phó Hoa - người đứng đầu Hãng tin Tân Hoa xã - đã đưa ra cái gọi là lý thuyết \"ba 1 phút\".\\xa0Đó là \"không chệch khỏi hàng ngũ đảng dù chỉ 1 phút, không được chệch khỏi những chỉ đạo của Tổng bí thư Tập Cận Bình dù chỉ 1 phút, và không được biến mất khỏi tầm nhìn của Tổng bí thư Tập Cận Bình và Ban Chấp hành Trung ương Đảng dù chỉ 1 phút\".\\xa0'},\n",
              " {'title': 'Thời tiết 16-10: Miền Trung tiếp tục mưa, TP.HCM se lạnh',\n",
              "  'abstract': 'TTO - Sáng nay 16-10, Trung Bộ tiếp tục có mưa do ảnh hưởng của vùng nhiễu động suy yếu từ áp thấp nhiệt đới. Bắc Bộ chuẩn bị đón đợt không khí lạnh tiếp theo. Trong khi đó TP.HCM trời se lạnh, nhiệt độ giảm nhẹ.',\n",
              "  'content': 'Vào đầu sớm nay 16-10, tại TP.HCM thời tiết se lạnh vào khoảng 6h đến 6h30. Theo Đài khí tượng thủy văn khu vực Nam Bộ, nhiệt độ đo được vào lúc 6h, 6h10, 6h30 là 22,3 độ C, vào lúc 6h20 nhiệt độ là 22,2 độ C.Nhiệt độ giảm so với những ngày trước khiến nhiều người đi làm sớm phải choàng khăn để giữ ấm.'},\n",
              " {'title': 'Không gian văn hóa Hồ Chí Minh trong trường học',\n",
              "  'abstract': 'TTO - Một số trường phổ thông tại TP.HCM đã xây dựng Không gian văn hóa Hồ Chí Minh trong trường để dạy học và rèn luyện lòng yêu nước, tự hào dân tộc... cho học sinh.',\n",
              "  'content': 'Cuối tháng 9-2022, chúng tôi có mặt tại Trường THPT Đào Sơn Tây (TP Thủ Đức, TP.HCM) khi học sinh lớp 10A4 đang trong tiết học lịch sử.\\xa0Tiết học diễn ra trong không khí lắng đọng.\\xa0Giáo viên say mê trước kho tư liệu sống động dẫn dắt học sinh tìm hiểu quá trình tìm đường cứu nước của người thanh niên Nguyễn Tất Thành tại Không gian văn hóa Hồ Chí Minh ở trường.'},\n",
              " {'title': 'Bí thư Thành Đoàn TP.HCM Phan Thị Thanh Phương: Ủng hộ thanh niên có khát vọng làm giàu',\n",
              "  'abstract': 'TTO - Ngay sau khi được tín nhiệm bầu tái đắc cử bí thư Thành Đoàn TP.HCM nhiệm kỳ 2022 - 2027, chị Phan Thị Thanh Phương đã chia sẻ cùng Tuổi Trẻ những ưu tư về chặng đường năm năm phía trước.',\n",
              "  'content': 'TP.HCM hiện có hơn 2,9 triệu thanh niên. Năm năm tới, thanh thiếu nhi TP trong độ tuổi sinh từ cuối năm 1990 đến 2019, phần lớn thuộc thế hệ gen Z sinh ra và lớn lên trong thời đại công nghệ và hội nhập nên chắc chắn trong tính cách, phong cách sống của các bạn trẻ giai đoạn này sẽ có những cái mới nhất định.Khảo sát trước đại hội cho thấy nhóm này có nhu cầu cao trong xây dựng hình tượng cá nhân, chú trọng tạo mối liên kết xã hội, sẵn sàng đóng góp sức trẻ trong hoạt động mà các bạn cho là có ý nghĩa.'},\n",
              " {'title': \"Hoàng Dũng xây nhà để 'Yên'\",\n",
              "  'abstract': \"TTO - Qua 'Yên', Hoàng Dũng đã dựng nên một ngôi nhà âm nhạc với những xúc cảm bình yên mà lắng đọng. Nơi không chỉ có những bản tình ca mà còn là lời thủ thỉ tâm tình giữa người hát và người nghe.\",\n",
              "  'content': 'Đó là ngôi nhà gần 5.000 khán giả, được Hoàng Dũng tạo ra trong đêm nhạc Yên\\xa0tổ chức vào tối 15-10 tại Nhà thi đấu Quân khu 7 (TP.HCM). Từ ánh sáng, bố cục cho đến phối cảnh đều mang theo cảm giác gần gũi nhưng cũng đầy chất thơ mộng.Bên trong ngôi nhà đã được sắp đặt tỉ mỉ, Hoàng Dũng bắt đầu cất tiếng hát để xây dựng ngôi nhà trong lòng khán giả. Bắt đầu là chút ngây ngô, vụng dại trong mối tình đầu với Ném câu yêu vào không trung, Đôi lời tình ca...'},\n",
              " {'title': 'Đông Quân, Thanh Ngọc, Hồng Mơ mang làn gió mới cho nhạc đỏ',\n",
              "  'abstract': 'TTO - Các giọng ca từng đoạt giải cao cuộc thi ‘Tiếng hát truyền hình TP.HCM’ như Đông Quân, Thanh Ngọc, Hồng Mơ vừa hội ngộ trên cùng một sân khấu, mang đến những ca khúc chào mừng Đại hội đại biểu Đoàn TNCS Hồ Chí Minh TP.HCM lần thứ XI.',\n",
              "  'content': 'Tối 15-10, Nhà văn hóa Thanh niên TP.HCM tổ chức chương trình nghệ thuật với chủ đề Tình ca đỏ, để chào mừng Đại hội đại biểu Đoàn TNCS Hồ Chí Minh TP.HCM lần thứ XI (nhiệm kỳ 2022 - 2027).Đây là hoạt động nằm trong khuôn khổ dự án Ôm Sài Gòn mang đến không gian trải nghiệm độc đáo cho các bạn trẻ thông qua âm nhạc. Tham gia biểu diễn trong đêm nhạc này có ca sĩ Đông Quân, Thanh Ngọc, Hồng Mơ, Duyên Quỳnh và Đoàn Đại Hòa.'},\n",
              " {'title': 'Lâm Thu Hồng đoạt danh hiệu Á hậu 4 Miss Globe 2022',\n",
              "  'abstract': 'TTO - Thí sinh đại diện của Việt Nam là Lâm Thu Hồng đã đoạt danh hiệu Á hậu 4 cuộc thi Hoa hậu Hoàn cầu 2022 (Miss Globe). Hoa hậu đăng quang cuộc thi đến từ Cộng hòa Dominica.',\n",
              "  'content': 'Sáng sớm 16-10 (giờ Việt Nam), đêm chung kết cuộc thi Hoa hậu Hoàn cầu 2022 diễn ra tại thành phố Tirana, Albania, với sự tranh tài của các thí sinh đến từ hơn 50 quốc gia, vùng lãnh thổ trên thế giới.Trải qua các phần thi, Lâm Thu Hồng ghi tên mình vào top 5 chung cuộc của Hoa hậu Hoàn cầu 2022 và dừng chân ở vị trí Á hậu 4.'},\n",
              " {'title': 'Tuổi trẻ TP.HCM mong đợi đối thoại cùng bí thư Thành ủy, bí thư Trung ương Đoàn',\n",
              "  'abstract': 'TTO - Nhiều đại biểu dự Đại hội đại biểu Đoàn TNCS Hồ Chí Minh TP.HCM lần thứ XI chia sẻ cùng Tuổi Trẻ mong muốn được đối thoại với bí thư Thành ủy TP.HCM, bí thư thứ nhất Trung ương Đoàn xoay quanh những vấn đề người trẻ quan tâm.',\n",
              "  'content': 'Sáng 16-10 tại hội trường TP.HCM, phiên trọng thể Đại hội đại biểu Đoàn TNCS Hồ Chí Minh TP.HCM lần thứ XI, nhiệm kỳ 2022-2027 diễn ra với sự tham dự của Bí thư Thành ủy TP.HCM Nguyễn Văn Nên, anh Bùi Quang Huy - ủy viên dự khuyết Ban Chấp hành Trung ương Đảng, bí thư thứ nhất Ban Chấp hành Trung ương Đoàn, cùng các đại biểu của Trung ương Đoàn.Ngay từ sớm, công tác chuẩn bị cho phiên đại hội được chạy thử đầy khẩn trương. Nhờ công nghệ nhận diện khuôn mặt mà khâu điểm danh đại biểu được tiến hành nhanh chóng, thuận tiện.\\xa0'},\n",
              " {'title': 'Mưa quá lớn, không kịp trở tay',\n",
              "  'abstract': 'TTO - Chương trình có nhiều thông tin cập nhật: Biển Đông có thể đón bão mạnh đầu tuần tới; “Rốn lũ” Quảng Nam chìm trong nước lũ; Kiểm soát đặc biệt Ngân hàng SCB; Giá heo giảm mạnh, người nuôi xin xuất khẩu…',\n",
              "  'content': ''},\n",
              " {'title': 'Sập mỏ titan, 4 công nhân bị chôn vùi',\n",
              "  'abstract': 'TTO - Đến rạng sáng 16-10, lực lượng chức năng huyện Hàm Thuận Nam, tỉnh Bình Thuận vẫn đang tìm kiếm 3 công nhân mất tích trong vụ sập mỏ titan Nam Suối Nhum. Trước đó tối 15-10, lực lượng chức năng đã tìm thấy 1 thi thể.',\n",
              "  'content': 'Theo báo cáo nhanh của Công an xã Thuận Quý, 4 công nhân trong vụ sập mỏ titan này gồm: Bùi Quang Tr. (36 tuổi, quê Phú Thọ), Nguyễn Văn Tr. (quê Bình Định), Huỳnh Tân Ph. và Nguyễn Văn N. (cùng ở Bình Thuận).\\xa0Trong đó, thi thể anh Tr. đã được lực lượng chức năng đã tìm thấy trong đêm 15-10.   Trước đó, vào năm 2016, mỏ titan Nam Suối Nhum cũng xảy ra sự cố sập bờ moong khiến một lượng lớn bùn cát trôi xuống nhà dân và đường sá.\\xa0'},\n",
              " {'title': 'Tin sáng 16-10: Cung, cầu thị trường bất động sản đều giảm sâu, tại sao?',\n",
              "  'abstract': 'TTO - Khoảng 130.000 người đi làm việc ở nước ngoài năm 2022; Thanh khoản thị trường bất động sản giảm sâu; Miền Bắc đón không khí lạnh 14 độ C... là những tin đáng chú ý sáng nay.',\n",
              "  'content': 'Khoảng 130.000 người đi làm việc ở nước ngoàiTrao đổi với Tuổi Trẻ Online, ông Nguyễn Gia Liêm - phó cục trưởng Cục Quản lý lao động ngoài nước (Bộ Lao động - Thương binh và Xã hội) - cho biết trong 9 tháng đầu năm 2022, có 105.000 người lao động đi làm việc ở nước ngoài.'},\n",
              " {'title': 'Bão Nesat tăng cấp, vào Biển Đông trong 24 giờ tới',\n",
              "  'abstract': 'TTO - Đêm qua và rạng sáng nay, bão Nesat mạnh lên cấp 9, giật cấp 12. Dự báo, trong 24 giờ tới, bão sẽ đi vào Biển Đông với cường độ dự báo cấp 10, giật cấp 12.',\n",
              "  'content': 'Theo Trung tâm Dự báo khí tượng thủy văn quốc gia, lúc 1h sáng 16-10, tâm bão Nesat ở cách đảo Luzon (Philippines) khoảng 90km về phía bắc đông bắc. Sức gió mạnh nhất vùng gần tâm bão mạnh cấp 9 (75-88km/h), giật cấp 11.Trong 24 giờ tới, bão chủ yếu di chuyển theo hướng tây tây bắc. Dự báo, khoảng chiều tối đến đêm nay bão Nesat đi vào Biển Đông và có khả năng mạnh thêm. Đến 1h sáng 17-10, tâm bão ở khu vực bắc Biển Đông, cường độ mạnh cấp 10, giật cấp 12.'},\n",
              " {'title': 'Rạch Nhiêu Lộc khởi nguồn từ đâu?',\n",
              "  'abstract': 'TTO - LTS: Rạch/kênh Nhiêu Lộc gần gũi biết bao với người Sài Gòn xưa và nay, nhưng có lẽ không nhiều người hiểu tường tận con rạch(*) này khởi đi từ đâu, thay đổi thế nào từ thập niên 1960 đến nay.',\n",
              "  'content': 'Bài viết này thử làm rõ câu chuyện lịch sử - địa lý của một con rạch góp phần làm nên diện mạo TP.Có đứa trẻ con, ít nhất ở bốn, năm giáo xứ cận kề hai bên con rạch này (Nam Thái, An Lạc, Tân Chí Linh, Vinh Sơn, Thái Hòa) trước 1975 chưa từng tắm mưa, lội rạch (*) Nhiêu Lộc? Mưa thuở ấy… Trẻ con khắp nơi khu Ông Tạ túa ra đường. Đứa chị bế đứa em, thằng lớn cõng thằng bé. Có đứa nhỏ bị cõng, bị bế, hãi nước, gào khóc lạc đi trong tiếng mưa. Kệ, \"càng khóc to phổi càng khỏe\" (!),\\xa0 đứa cõng, đứa bế bảo vậy và vẫn cứ chạy nhảy, lội mưa, té nước nhau…'},\n",
              " {'title': 'Bàn chuyện tập hợp, chuyển đổi số của Đoàn',\n",
              "  'abstract': 'TTO - Thảo luận tại các tổ ngay sau phiên khai mạc Đại hội Đoàn TP.HCM lần thứ XI ngày 15-10, nhiều ý kiến đã gợi mở để Đoàn cùng nhịp với người trẻ trong chặng đường phía trước với nhiều thời cơ nhưng không thiếu thách thức.',\n",
              "  'content': '\"Cần thêm các cơ chế, kế hoạch, đề án hoặc chương trình giúp Đoàn cơ sở nắm rõ các phương thức thực hiện chuyển đổi số, các kỹ năng mà đoàn viên cần được trang bị để tăng năng lực số. Đồng thời tạo điều kiện để thúc đẩy các ý tưởng sáng tạo trong lực lượng trẻ\", anh Đặng Hiếu - bí thư Quận Đoàn 11 - nói.Để Đoàn đi cùng nhịp sống giới trẻ\\xa0'},\n",
              " {'title': 'Giáo viên dạy lái xe là nhân viên dịch vụ cá nhân?',\n",
              "  'abstract': 'TTO - Giáo viên dạy lái xe (lý thuyết hoặc thực hành) là danh xưng đã được sử dụng quen thuộc. Từ năm 2009, Luật GTĐB quy định “Cơ sở đào tạo lái xe là loại hình cơ sở dạy nghề”. Tuy nhiên, Danh mục nghề nghiệp Việt Nam lại có định nghĩa khác.',\n",
              "  'content': 'Giáo viên dạy lái xeNghị định 138/2018/NĐ-CP quy định \"Giáo viên dạy lái xe phải đáp ứng tiêu chuẩn đối với nhà giáo dạy trình độ sơ cấp theo quy định của pháp luật về giáo dục nghề nghiệp\", nghĩa là \"phải có bằng tốt nghiệp trung cấp trở lên hoặc có chứng chỉ kỹ năng nghề để dạy trình độ sơ cấp.\" Trong đó, giáo viên dạy lý thuyết phải tốt nghiệp ngành luật hoặc ngành nghề có \"nội dung đào tạo chuyên ngành ô tô chiếm 30% trở lên\".'},\n",
              " {'title': 'Elon Musk ‘quay xe’, tuyên bố tiếp tục tài trợ Internet Starlink cho Ukraine',\n",
              "  'abstract': 'TTO - Tỉ phú giàu nhất thế giới Elon Musk cho biết Công ty SpaceX sẽ tiếp tục tài trợ dịch vụ Internet Starlink ở Ukraine, với lý do cần “làm việc tốt”, chỉ một ngày sau khi ông nói không còn khả năng tài trợ.',\n",
              "  'content': 'Như thường lệ, ông Elon Musk thông báo các động thái mới trên mạng xã hội Twitter. \"… mặc dù Starlink vẫn thua lỗ và các công ty khác đang nhận được hàng tỉ đô la tiền thuế, chúng tôi sẽ tiếp tục tài trợ miễn phí cho Chính phủ Ukraine\", ông Musk đăng tweet ngày 15-10.Trước đó, ngày 14-10, vị tỉ phú này nói SpaceX không thể tài trợ Internet vô thời hạn ở Ukraine.'},\n",
              " {'title': 'Tin thế giới 16-10: Trung Quốc khai mạc Đại hội Đảng; Nổ súng tại khu huấn luyện quân sự Nga',\n",
              "  'abstract': 'TTO - Hôm nay Trung Quốc khai mạc Đại hội Đảng lần thứ XX; Ít nhất 11 người thiệt mạng trong vụ tấn công tại khu huấn luyện quân sự Nga; Quân đội Ukraine đang nắm giữ thị trấn chiến lược Bakhmut ở phía đông... là những tin tức đáng chú ý sáng 16-10.',\n",
              "  'content': '* Trung Quốc khai mạc Đại hội Đảng. Ông Tôn Nghiệp Lễ (Sun Yeli), người phát ngôn Đại hội Đại biểu toàn quốc lần thứ XX của Đảng Cộng sản Trung Quốc (Đại hội XX), cho biết Đại hội XX sẽ diễn ra tại Bắc Kinh từ ngày 16 đến 22-10.Lễ khai mạc Đại hội XX sẽ diễn ra tại Đại lễ đường Nhân dân vào lúc 10h sáng 16-10 (9h theo giờ Việt Nam).'},\n",
              " {'title': 'CĐV Brazil lo sốt vó khi Richarlison rời sân bằng nạng',\n",
              "  'abstract': 'TTO - Rạng sáng 16-10 (giờ Việt Nam), chân sút người Brazil Richarlison đã phải rời SVĐ Tottenham Hotspur bằng nạng sau trận thắng 2-0 trước Everton tại Giải ngoại hạng Anh và bỏ ngõ khả năng dự vòng chung kết World Cup 2022.',\n",
              "  'content': 'Đầu hiệp hai, khi tỉ số vẫn là 0-0, Richarlison đã dính chấn thương trong vòng cấm Everton. Ngôi sao Brazil ôm chân với vẻ mặt đau đớn khi các bác sĩ của Tottenham lao vào sân chăm sóc cho anh. Chấn thương của Richarlison được cho là khá nghiêm trọng và nhân viên y tế nhanh chóng đưa ra quyết định xin thay người. Phút 52, Richarlison rất buồn khi tập tễnh rời sân, nhường chỗ cho Yves Bissouma.'},\n",
              " {'title': 'Trọng tài David Webb rút 4 thẻ đỏ trong trận đấu ở Giải hạng nhất Anh',\n",
              "  'abstract': 'TTO - Ngày 15-10, trọng tài David Webb đã rút đến 4 thẻ đỏ ở trận cầu căng thẳng Sheffield United hòa 3-3 với Blackpool tại Giải bóng đá hạng nhất Anh.',\n",
              "  'content': 'Trận đấu khởi đi khá ấn tượng với 4 bàn thắng chia đều cho hai đội trong hiệp thi đấu đầu tiên, dù đội chủ nhà đã sớm vượt lên dẫn 2-0 chỉ sau 24 phút thi đấu. Bước sang hiệp thứ hai, đội khách Blackpool tiếp tục ghi bàn ở phút 50 để vượt lên dẫn 3-2, khiến trận đấu trở nên căng thẳng.Hậu quả là Blackpool phải chơi thiếu người từ phút 78 khi Ekpiteta phải nhận thẻ vàng thứ hai vì phạm lỗi thô bạo với đối thủ. Chỉ 3 phút sau, Blackpool chỉ còn 9 người trên sân sau khi Thompson cũng bị truất quyền thi đấu. '},\n",
              " {'title': 'Lịch trực tiếp bóng đá châu Âu 16-10: Liverpool - Man City, Real Madrid - Barca',\n",
              "  'abstract': 'TTO - Đêm 16-10 rạng sáng 17-10, bóng đá châu Âu sẽ bùng nổ với 2 cuộc đại chiến giữa Liverpool và Man City, Real Madrid gặp Barca. Đây cũng là 2 trận đấu tâm điểm mà các CĐV không thể bỏ lỡ.',\n",
              "  'content': ''}]"
            ]
          },
          "metadata": {},
          "execution_count": 3
        }
      ]
    }
  ]
}