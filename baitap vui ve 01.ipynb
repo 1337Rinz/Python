{
  "nbformat": 4,
  "nbformat_minor": 0,
  "metadata": {
    "colab": {
      "provenance": [],
      "collapsed_sections": [],
      "authorship_tag": "ABX9TyPQwixVJZ0oXktFQExoVbcE",
      "include_colab_link": true
    },
    "kernelspec": {
      "name": "python3",
      "display_name": "Python 3"
    },
    "language_info": {
      "name": "python"
    }
  },
  "cells": [
    {
      "cell_type": "markdown",
      "metadata": {
        "id": "view-in-github",
        "colab_type": "text"
      },
      "source": [
        "<a href=\"https://colab.research.google.com/github/RinzCSGO/Python/blob/main/baitap%20vui%20ve%2001.ipynb\" target=\"_parent\"><img src=\"https://colab.research.google.com/assets/colab-badge.svg\" alt=\"Open In Colab\"/></a>"
      ]
    },
    {
      "cell_type": "code",
      "execution_count": 1,
      "metadata": {
        "id": "TaIGuZ0JK_HS"
      },
      "outputs": [],
      "source": [
        "import random\n",
        "import numpy as np\n",
        "import matplotlib.pyplot as plt"
      ]
    },
    {
      "cell_type": "code",
      "source": [
        "n_count = 0\n",
        "n_random = random.randint(0,1)\n",
        "list_ = []\n",
        "\n",
        "print(n_random)"
      ],
      "metadata": {
        "colab": {
          "base_uri": "https://localhost:8080/"
        },
        "id": "EaD-UWaEb3n_",
        "outputId": "4ae67193-ca98-4591-bbf3-81900e4f4321"
      },
      "execution_count": 2,
      "outputs": [
        {
          "output_type": "stream",
          "name": "stdout",
          "text": [
            "1\n"
          ]
        }
      ]
    },
    {
      "cell_type": "code",
      "source": [
        "for i in range(11):\n",
        "  n_random = random.randint(0,1)\n",
        "  list_.append(n_random)\n",
        "  \n",
        "print(list_)"
      ],
      "metadata": {
        "colab": {
          "base_uri": "https://localhost:8080/"
        },
        "id": "NQcfZswZcGTw",
        "outputId": "34fba477-bc17-4d0f-ffbd-ed4c670c1700"
      },
      "execution_count": 3,
      "outputs": [
        {
          "output_type": "stream",
          "name": "stdout",
          "text": [
            "[0, 0, 1, 1, 0, 0, 1, 1, 1, 0, 1]\n"
          ]
        }
      ]
    },
    {
      "cell_type": "code",
      "source": [
        "def tong(a1,a2):\n",
        "  w1,w2,b = random.randint(0,1),random.randint(0,1),random.randint(0,1)\n",
        "  y = (w1*a1+w2*a2)+b\n",
        "  return y \n"
      ],
      "metadata": {
        "id": "21pmlbsPdlZw"
      },
      "execution_count": 4,
      "outputs": []
    },
    {
      "cell_type": "code",
      "source": [
        "tong(3,1.5)"
      ],
      "metadata": {
        "colab": {
          "base_uri": "https://localhost:8080/"
        },
        "id": "DK_ws2--eTmx",
        "outputId": "f4eafa7f-88d8-4778-eb45-b2e380e21212"
      },
      "execution_count": 5,
      "outputs": [
        {
          "output_type": "execute_result",
          "data": {
            "text/plain": [
              "5.5"
            ]
          },
          "metadata": {},
          "execution_count": 5
        }
      ]
    },
    {
      "cell_type": "code",
      "source": [
        "data = np.random.rand(4,5)\n",
        "data"
      ],
      "metadata": {
        "colab": {
          "base_uri": "https://localhost:8080/"
        },
        "id": "vWKhP_BJgcFx",
        "outputId": "aa61f37d-ee81-4b7a-80f2-5ef07acf6b75"
      },
      "execution_count": 6,
      "outputs": [
        {
          "output_type": "execute_result",
          "data": {
            "text/plain": [
              "array([[0.27021855, 0.33722826, 0.05674224, 0.58457907, 0.8251826 ],\n",
              "       [0.51443091, 0.99305818, 0.0036641 , 0.02186043, 0.60733829],\n",
              "       [0.62175001, 0.44312171, 0.90174139, 0.55102115, 0.71446493],\n",
              "       [0.85272986, 0.93450251, 0.67080647, 0.36721982, 0.96212161]])"
            ]
          },
          "metadata": {},
          "execution_count": 6
        }
      ]
    },
    {
      "cell_type": "code",
      "source": [
        "count_rep = 0\n",
        "number_random = random.randint(1,50)\n",
        "# print(number_random)"
      ],
      "metadata": {
        "id": "Bzym4P6DhkxS"
      },
      "execution_count": 7,
      "outputs": []
    },
    {
      "cell_type": "code",
      "source": [
        "print(\"predict a number (1-50) \\r\")\n",
        "\n",
        "while count_rep <3:\n",
        "  count_rep += 1\n",
        "  predict = input(\"the number u predict is :\")\n",
        "  predict = int(predict)\n",
        "\n",
        "  if predict < number_random:\n",
        "    print(\"your number is smaller!\")\n",
        "  elif predict > number_random:\n",
        "    print(\"your number is higher!\")\n",
        "  else:\n",
        "    break\n",
        "  \n",
        "if predict == number_random:\n",
        "  print(\"Thí chủ quá rùa !! \")\n",
        "else: \n",
        "  print(\"goodluck next time!! the number is \"+ str(number_random))"
      ],
      "metadata": {
        "colab": {
          "base_uri": "https://localhost:8080/"
        },
        "id": "Lt0h1-yTh0X0",
        "outputId": "7811f080-2a28-4b47-ff21-2ca55960a94e"
      },
      "execution_count": 8,
      "outputs": [
        {
          "output_type": "stream",
          "name": "stdout",
          "text": [
            "predict a number (1-50) \r\n",
            "the number u predict is :30\n",
            "your number is higher!\n",
            "the number u predict is :20\n",
            "your number is smaller!\n",
            "the number u predict is :27\n",
            "your number is smaller!\n",
            "goodluck next time!! the number is 28\n"
          ]
        }
      ]
    }
  ]
}